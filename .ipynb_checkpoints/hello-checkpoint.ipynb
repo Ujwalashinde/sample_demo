{
 "cells": [
  {
   "cell_type": "code",
   "execution_count": 1,
   "id": "1f58fe1c-eea0-4416-87e9-9a8ea9014718",
   "metadata": {},
   "outputs": [
    {
     "name": "stdout",
     "output_type": "stream",
     "text": [
      " hello everyone\n"
     ]
    }
   ],
   "source": [
    "print(\" hello everyone\")"
   ]
  },
  {
   "cell_type": "code",
   "execution_count": 1,
   "id": "0ec3256a-cc15-4aa6-8f1d-ee5076cfd269",
   "metadata": {},
   "outputs": [
    {
     "name": "stdout",
     "output_type": "stream",
     "text": [
      "this is git demo\n"
     ]
    }
   ],
   "source": [
    "print(\"this is git demo\")"
   ]
  },
  {
   "cell_type": "code",
   "execution_count": null,
   "id": "bed2e43d-d881-4c62-b194-d949c339bb50",
   "metadata": {},
   "outputs": [],
   "source": []
  }
 ],
 "metadata": {
  "kernelspec": {
   "display_name": "Python 3",
   "language": "python",
   "name": "python3"
  },
  "language_info": {
   "codemirror_mode": {
    "name": "ipython",
    "version": 3
   },
   "file_extension": ".py",
   "mimetype": "text/x-python",
   "name": "python",
   "nbconvert_exporter": "python",
   "pygments_lexer": "ipython3",
   "version": "3.7.11"
  }
 },
 "nbformat": 4,
 "nbformat_minor": 5
}
